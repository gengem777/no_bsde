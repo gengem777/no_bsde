{
 "cells": [
  {
   "cell_type": "code",
   "execution_count": null,
   "metadata": {},
   "outputs": [],
   "source": []
  }
 ],
 "metadata": {
  "kernelspec": {
   "display_name": "venv",
   "language": "python",
   "name": "python3"
  },
  "language_info": {
   "name": "python",
   "version": "3.7.15"
  },
  "orig_nbformat": 4,
  "vscode": {
   "interpreter": {
    "hash": "7c3a7824396c265870857ca9c6518d0bf96b6b6c3efa9c3f659f1cd6f328d877"
   }
  }
 },
 "nbformat": 4,
 "nbformat_minor": 2
}
